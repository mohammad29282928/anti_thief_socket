{
 "cells": [
  {
   "cell_type": "code",
   "execution_count": 10,
   "id": "dc2cd223",
   "metadata": {},
   "outputs": [
    {
     "name": "stdout",
     "output_type": "stream",
     "text": [
      "camera added\n"
     ]
    }
   ],
   "source": [
    "# echo-client.py\n",
    "\n",
    "import socket\n",
    "import json\n",
    "\n",
    "HOST = \"127.0.0.1\"  # The server's hostname or IP address\n",
    "PORT = 65432  # The port used by the server\n",
    "\n",
    "\n",
    "params = {\n",
    "    \"action\": 'add_camera',\n",
    "\n",
    "    'data': {\n",
    "        'email_addresses':[],\n",
    "        'email_addresses': [],\n",
    "        'name': 'cam1',\n",
    "        'view_img': 0,\n",
    "        'start_time':'',\n",
    "        'end_time':'',\n",
    "        'objects':[],\n",
    "        'scheduling_type': 'ever',\n",
    "        'active':True,\n",
    "        'ip': '0'\n",
    "    }\n",
    "\n",
    "}\n",
    "\n",
    "\n",
    "with socket.socket(socket.AF_INET, socket.SOCK_STREAM) as s:\n",
    "    s.connect((HOST, PORT))\n",
    "\n",
    "    data = json.dumps(params)\n",
    "    s.sendall(data.encode())\n",
    "\n",
    "    data = s.recv(1024).decode()\n",
    "    print(data)\n",
    "    s.close()\n"
   ]
  },
  {
   "cell_type": "code",
   "execution_count": 7,
   "id": "de303a1b",
   "metadata": {},
   "outputs": [
    {
     "name": "stdout",
     "output_type": "stream",
     "text": [
      "fdgfdg\n"
     ]
    }
   ],
   "source": [
    "print('fdgfdg')"
   ]
  },
  {
   "cell_type": "code",
   "execution_count": null,
   "id": "16789ed9",
   "metadata": {},
   "outputs": [],
   "source": []
  },
  {
   "cell_type": "code",
   "execution_count": 17,
   "id": "6d40bd8f",
   "metadata": {},
   "outputs": [
    {
     "name": "stdout",
     "output_type": "stream",
     "text": [
      "camera added\n"
     ]
    }
   ],
   "source": [
    "# echo-client.py\n",
    "\n",
    "import socket\n",
    "import json\n",
    "\n",
    "\n",
    "params = {\n",
    "    \"action\": 'login',\n",
    "\n",
    "    'data': {\n",
    "        \"username\": 'mahmoodi',\n",
    "        \"password\": \"123456\"\n",
    "    }\n",
    "\n",
    "}\n",
    "\n",
    "\n",
    "\n",
    "HOST = \"127.0.0.1\"  # The server's hostname or IP address\n",
    "PORT = 9000  # The port used by the server\n",
    "with socket.socket(socket.AF_INET, socket.SOCK_STREAM) as s:\n",
    "    s.connect((HOST, PORT))\n",
    "\n",
    "    data = json.dumps(params)\n",
    "    s.sendall(data.encode())\n",
    "    data = s.recv(1024).decode()\n",
    "    print(data)\n",
    "    s.close()\n"
   ]
  },
  {
   "cell_type": "code",
   "execution_count": null,
   "id": "d8deeeb7",
   "metadata": {},
   "outputs": [],
   "source": []
  },
  {
   "cell_type": "code",
   "execution_count": null,
   "id": "02a44254",
   "metadata": {},
   "outputs": [],
   "source": []
  },
  {
   "cell_type": "code",
   "execution_count": 4,
   "id": "e2046348",
   "metadata": {},
   "outputs": [
    {
     "name": "stdout",
     "output_type": "stream",
     "text": [
      "stream will be sen\n",
      "Socket created\n",
      "Socket bind complete\n",
      "Socket now listening\n"
     ]
    }
   ],
   "source": [
    "import pickle\n",
    "import socket\n",
    "import struct\n",
    "\n",
    "import cv2\n",
    "import socket\n",
    "import json\n",
    "\n",
    "\n",
    "params = {\n",
    "    \"action\": 'get_stream',\n",
    "\n",
    "    'data': {\n",
    "        'email_addresses':[],\n",
    "        'email_addresses': [],\n",
    "        'name': 'cam1',\n",
    "        'view_img': 0,\n",
    "        'start_time':'',\n",
    "        'end_time':'',\n",
    "        'objects':[],\n",
    "        'scheduling_type': 'ever',\n",
    "        'active':True,\n",
    "        'ip': 0\n",
    "    }\n",
    "\n",
    "}\n",
    "\n",
    "\n",
    "\n",
    "HOST = \"127.0.0.1\"  # The server's hostname or IP address\n",
    "PORT = 65432  # The port used by the server\n",
    "with socket.socket(socket.AF_INET, socket.SOCK_STREAM) as s:\n",
    "    s.connect((HOST, PORT))\n",
    "\n",
    "    data = json.dumps(params)\n",
    "    s.sendall(data.encode())\n",
    "    data = s.recv(1024).decode()\n",
    "    print(data)\n",
    "    s.close()\n",
    "\n",
    "\n",
    "\n",
    "\n",
    "\n",
    "\n",
    "\n",
    "\n",
    "HOST = '127.0.0.1'\n",
    "PORT = 7080\n",
    "\n",
    "s = socket.socket(socket.AF_INET, socket.SOCK_STREAM)\n",
    "print('Socket created')\n",
    "\n",
    "s.bind((HOST, PORT))\n",
    "print('Socket bind complete')\n",
    "s.listen(10)\n",
    "print('Socket now listening')\n",
    "\n",
    "conn, addr = s.accept()\n",
    "\n",
    "data = b'' ### CHANGED\n",
    "payload_size = struct.calcsize(\"L\") ### CHANGED\n",
    "\n",
    "while True:\n",
    "\n",
    "    # Retrieve message size\n",
    "    while len(data) < payload_size:\n",
    "        data += conn.recv(4096)\n",
    "\n",
    "    packed_msg_size = data[:payload_size]\n",
    "    data = data[payload_size:]\n",
    "    msg_size = struct.unpack(\"L\", packed_msg_size)[0] ### CHANGED\n",
    "\n",
    "    # Retrieve all data based on message size\n",
    "    while len(data) < msg_size:\n",
    "        data += conn.recv(4096)\n",
    "\n",
    "    frame_data = data[:msg_size]\n",
    "    data = data[msg_size:]\n",
    "\n",
    "    # Extract frame\n",
    "    frame = pickle.loads(frame_data)\n",
    "\n",
    "    # Display\n",
    "    cv2.imshow('frame', frame)\n",
    "    if cv2.waitKey(1) & 0xFF == ord('q'):\n",
    "        break\n",
    "        \n",
    "cv2.destroyAllWindows()\n",
    "conn.close()"
   ]
  },
  {
   "cell_type": "code",
   "execution_count": null,
   "id": "791dad3c",
   "metadata": {},
   "outputs": [],
   "source": []
  }
 ],
 "metadata": {
  "kernelspec": {
   "display_name": "Python 3 (ipykernel)",
   "language": "python",
   "name": "python3"
  },
  "language_info": {
   "codemirror_mode": {
    "name": "ipython",
    "version": 3
   },
   "file_extension": ".py",
   "mimetype": "text/x-python",
   "name": "python",
   "nbconvert_exporter": "python",
   "pygments_lexer": "ipython3",
   "version": "3.8.3"
  }
 },
 "nbformat": 4,
 "nbformat_minor": 5
}
