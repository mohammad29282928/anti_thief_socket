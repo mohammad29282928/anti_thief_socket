{
 "cells": [
  {
   "cell_type": "code",
   "execution_count": 1,
   "id": "cb3d4573",
   "metadata": {},
   "outputs": [
    {
     "ename": "ConnectionRefusedError",
     "evalue": "[WinError 10061] No connection could be made because the target machine actively refused it",
     "output_type": "error",
     "traceback": [
      "\u001b[1;31m---------------------------------------------------------------------------\u001b[0m",
      "\u001b[1;31mConnectionRefusedError\u001b[0m                    Traceback (most recent call last)",
      "Cell \u001b[1;32mIn[1], line 30\u001b[0m\n\u001b[0;32m     10\u001b[0m params \u001b[38;5;241m=\u001b[39m {\n\u001b[0;32m     11\u001b[0m     \u001b[38;5;124m\"\u001b[39m\u001b[38;5;124maction\u001b[39m\u001b[38;5;124m\"\u001b[39m: \u001b[38;5;124m'\u001b[39m\u001b[38;5;124madd_camera\u001b[39m\u001b[38;5;124m'\u001b[39m,\n\u001b[0;32m     12\u001b[0m \n\u001b[1;32m   (...)\u001b[0m\n\u001b[0;32m     25\u001b[0m \n\u001b[0;32m     26\u001b[0m }\n\u001b[0;32m     29\u001b[0m \u001b[38;5;28;01mwith\u001b[39;00m socket\u001b[38;5;241m.\u001b[39msocket(socket\u001b[38;5;241m.\u001b[39mAF_INET, socket\u001b[38;5;241m.\u001b[39mSOCK_STREAM) \u001b[38;5;28;01mas\u001b[39;00m s:\n\u001b[1;32m---> 30\u001b[0m     \u001b[43ms\u001b[49m\u001b[38;5;241;43m.\u001b[39;49m\u001b[43mconnect\u001b[49m\u001b[43m(\u001b[49m\u001b[43m(\u001b[49m\u001b[43mHOST\u001b[49m\u001b[43m,\u001b[49m\u001b[43m \u001b[49m\u001b[43mPORT\u001b[49m\u001b[43m)\u001b[49m\u001b[43m)\u001b[49m\n\u001b[0;32m     32\u001b[0m     data \u001b[38;5;241m=\u001b[39m json\u001b[38;5;241m.\u001b[39mdumps(params)\n\u001b[0;32m     33\u001b[0m     s\u001b[38;5;241m.\u001b[39msendall(data\u001b[38;5;241m.\u001b[39mencode())\n",
      "\u001b[1;31mConnectionRefusedError\u001b[0m: [WinError 10061] No connection could be made because the target machine actively refused it"
     ]
    }
   ],
   "source": [
    "# echo-client.py\n",
    "\n",
    "import socket\n",
    "import json\n",
    "\n",
    "HOST = \"127.0.0.1\"  # The server's hostname or IP address\n",
    "PORT = 65432  # The port used by the server\n",
    "\n",
    "\n",
    "params = {\n",
    "    \"action\": 'add_camera',\n",
    "\n",
    "    'data': {\n",
    "        'email_addresses':[],\n",
    "        'email_addresses': [],\n",
    "        'name': 'cam1',\n",
    "        'view_img': 0,\n",
    "        'start_time':'',\n",
    "        'end_time':'',\n",
    "        'objects':[],\n",
    "        'scheduling_type': 'ever',\n",
    "        'active':True,\n",
    "        'ip': '0'\n",
    "    }\n",
    "\n",
    "}\n",
    "\n",
    "\n",
    "with socket.socket(socket.AF_INET, socket.SOCK_STREAM) as s:\n",
    "    s.connect((HOST, PORT))\n",
    "\n",
    "    data = json.dumps(params)\n",
    "    s.sendall(data.encode())\n",
    "\n",
    "    data = s.recv(1024).decode()\n",
    "    print(data)\n",
    "    s.close()\n"
   ]
  },
  {
   "cell_type": "code",
   "execution_count": 7,
   "id": "bd1d5e24",
   "metadata": {},
   "outputs": [
    {
     "name": "stdout",
     "output_type": "stream",
     "text": [
      "fdgfdg\n"
     ]
    }
   ],
   "source": [
    "print('fdgfdg')"
   ]
  },
  {
   "cell_type": "code",
   "execution_count": null,
   "id": "48c46a36",
   "metadata": {},
   "outputs": [],
   "source": []
  },
  {
   "cell_type": "code",
   "execution_count": 2,
   "id": "3b5c9577",
   "metadata": {},
   "outputs": [
    {
     "name": "stdout",
     "output_type": "stream",
     "text": [
      "camera added\n"
     ]
    }
   ],
   "source": [
    "# start socket (login)\n",
    "\n",
    "import socket\n",
    "import json\n",
    "\n",
    "\n",
    "params = {\n",
    "    \"action\": 'login',\n",
    "\n",
    "    'data': {\n",
    "        \"username\": 'mahmoodi',\n",
    "        \"password\": \"123456\"\n",
    "    }\n",
    "\n",
    "}\n",
    "\n",
    "\n",
    "\n",
    "HOST = \"127.0.0.1\"  # The server's hostname or IP address\n",
    "PORT = 9000  # The port used by the server\n",
    "with socket.socket(socket.AF_INET, socket.SOCK_STREAM) as s:\n",
    "    s.connect((HOST, PORT))\n",
    "\n",
    "    data = json.dumps(params)\n",
    "    s.sendall(data.encode())\n",
    "    data = s.recv(1024).decode()\n",
    "    print(data)\n",
    "    s.close()\n"
   ]
  },
  {
   "cell_type": "code",
   "execution_count": 2,
   "id": "bdddafe4",
   "metadata": {},
   "outputs": [
    {
     "name": "stdout",
     "output_type": "stream",
     "text": [
      "\n"
     ]
    }
   ],
   "source": [
    "import socket\n",
    "import json\n",
    "\n",
    "\n",
    "params = {\n",
    "    \"key\": 'SendToServer',\n",
    "\n",
    "    'Data': {\n",
    "        'email_addresses':[],\n",
    "        'email_addresses': [],\n",
    "        'name': 'cam1',\n",
    "        'view_img': 0,\n",
    "        'start_time':'',\n",
    "        'end_time':'',\n",
    "        'objects':[],\n",
    "        'scheduling_type': 'ever',\n",
    "        'active':True,\n",
    "        'ip': 0\n",
    "    }\n",
    "\n",
    "}\n",
    "\n",
    "\n",
    "\n",
    "HOST = \"127.0.0.1\"  # The server's hostname or IP address\n",
    "PORT = 9000  # The port used by the server\n",
    "with socket.socket(socket.AF_INET, socket.SOCK_STREAM) as s:\n",
    "    s.connect((HOST, PORT))\n",
    "\n",
    "    data = json.dumps(params)\n",
    "    s.sendall(data.encode())\n",
    "    data = s.recv(1024).decode()\n",
    "    print(data)\n",
    "    s.close()"
   ]
  },
  {
   "cell_type": "code",
   "execution_count": null,
   "id": "84b15c65",
   "metadata": {},
   "outputs": [],
   "source": []
  },
  {
   "cell_type": "code",
   "execution_count": 4,
   "id": "38b605fd",
   "metadata": {},
   "outputs": [
    {
     "name": "stdout",
     "output_type": "stream",
     "text": [
      "stream will be sen\n",
      "Socket created\n",
      "Socket bind complete\n",
      "Socket now listening\n"
     ]
    }
   ],
   "source": [
    "import pickle\n",
    "import socket\n",
    "import struct\n",
    "\n",
    "import cv2\n",
    "import socket\n",
    "import json\n",
    "\n",
    "\n",
    "params = {\n",
    "    \"action\": 'get_stream',\n",
    "\n",
    "    'data': {\n",
    "        'email_addresses':[],\n",
    "        'email_addresses': [],\n",
    "        'name': 'cam1',\n",
    "        'view_img': 0,\n",
    "        'start_time':'',\n",
    "        'end_time':'',\n",
    "        'objects':[],\n",
    "        'scheduling_type': 'ever',\n",
    "        'active':True,\n",
    "        'ip': 0\n",
    "    }\n",
    "\n",
    "}\n",
    "\n",
    "\n",
    "\n",
    "HOST = \"127.0.0.1\"  # The server's hostname or IP address\n",
    "PORT = 65432  # The port used by the server\n",
    "with socket.socket(socket.AF_INET, socket.SOCK_STREAM) as s:\n",
    "    s.connect((HOST, PORT))\n",
    "\n",
    "    data = json.dumps(params)\n",
    "    s.sendall(data.encode())\n",
    "    data = s.recv(1024).decode()\n",
    "    print(data)\n",
    "    s.close()\n",
    "\n",
    "\n",
    "\n",
    "\n",
    "\n",
    "\n",
    "\n",
    "\n",
    "HOST = '127.0.0.1'\n",
    "PORT = 7080\n",
    "\n",
    "s = socket.socket(socket.AF_INET, socket.SOCK_STREAM)\n",
    "print('Socket created')\n",
    "\n",
    "s.bind((HOST, PORT))\n",
    "print('Socket bind complete')\n",
    "s.listen(10)\n",
    "print('Socket now listening')\n",
    "\n",
    "conn, addr = s.accept()\n",
    "\n",
    "data = b'' ### CHANGED\n",
    "payload_size = struct.calcsize(\"L\") ### CHANGED\n",
    "\n",
    "while True:\n",
    "\n",
    "    # Retrieve message size\n",
    "    while len(data) < payload_size:\n",
    "        data += conn.recv(4096)\n",
    "\n",
    "    packed_msg_size = data[:payload_size]\n",
    "    data = data[payload_size:]\n",
    "    msg_size = struct.unpack(\"L\", packed_msg_size)[0] ### CHANGED\n",
    "\n",
    "    # Retrieve all data based on message size\n",
    "    while len(data) < msg_size:\n",
    "        data += conn.recv(4096)\n",
    "\n",
    "    frame_data = data[:msg_size]\n",
    "    data = data[msg_size:]\n",
    "\n",
    "    # Extract frame\n",
    "    frame = pickle.loads(frame_data)\n",
    "\n",
    "    # Display\n",
    "    cv2.imshow('frame', frame)\n",
    "    if cv2.waitKey(1) & 0xFF == ord('q'):\n",
    "        break\n",
    "        \n",
    "cv2.destroyAllWindows()\n",
    "conn.close()"
   ]
  },
  {
   "cell_type": "code",
   "execution_count": null,
   "id": "5e8f5585",
   "metadata": {},
   "outputs": [],
   "source": []
  }
 ],
 "metadata": {
  "kernelspec": {
   "display_name": "Python 3 (ipykernel)",
   "language": "python",
   "name": "python3"
  },
  "language_info": {
   "codemirror_mode": {
    "name": "ipython",
    "version": 3
   },
   "file_extension": ".py",
   "mimetype": "text/x-python",
   "name": "python",
   "nbconvert_exporter": "python",
   "pygments_lexer": "ipython3",
   "version": "3.8.3"
  }
 },
 "nbformat": 4,
 "nbformat_minor": 5
}
